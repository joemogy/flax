{
 "cells": [
  {
   "cell_type": "markdown",
   "metadata": {
    "id": "8Z1q_WRdTpgv"
   },
   "source": [
    "[![Open in Colab](https://colab.research.google.com/assets/colab-badge.svg)](https://colab.research.google.com/github/google/flax/blob/main/docs/notebooks/state_params.ipynb)\n",
    "[![Open On GitHub](https://img.shields.io/badge/Open-on%20GitHub-blue?logo=GitHub)](https://github.com/google/flax/blob/main/docs/notebooks/state_params.ipynb)\n",
    "\n",
    "# Managing Parameters and State"
   ]
  },
  {
   "cell_type": "markdown",
   "metadata": {
    "id": "Z7Qjr14xTsp7"
   },
   "source": [
    "We will show you how to…\n",
    "\n",
    "- manage the variables from initialization to updates.\n",
    "- split and re-assemble parameters and state.\n",
    "- use vmap with batch-dependant state."
   ]
  },
  {
   "cell_type": "code",
   "execution_count": 3,
   "metadata": {
    "id": "KL1SWMpnUTAA",
    "tags": [
     "skip-execution"
    ]
   },
   "outputs": [],
   "source": [
    "#@title\n",
    "! pip install --upgrade pip jax jaxlib\n",
    "! pip install --upgrade git+https://github.com/google/flax.git\n",
    "! pip install optax"
   ]
  },
  {
   "cell_type": "code",
   "execution_count": null,
   "metadata": {},
   "outputs": [],
   "source": [
    "from functools import partial\n",
    "\n",
    "import jax\n",
    "from jax import numpy as jnp\n",
    "from jax import random\n",
    "import optax\n",
    "\n",
    "from flax import linen as nn\n",
    "\n",
    "\n",
    "#@title\n",
    "# Initialize random variables\n",
    "dummy_input = jnp.ones((32, 5))\n",
    "\n",
    "X = random.uniform(random.PRNGKey(0), (128, 5),  minval=0.0, maxval=1.0)\n",
    "noise = random.uniform(random.PRNGKey(0), (),  minval=0.0, maxval=0.1)\n",
    "X += noise\n",
    "\n",
    "W = random.uniform(random.PRNGKey(0), (5, 1),  minval=0.0, maxval=1.0)\n",
    "b = random.uniform(random.PRNGKey(0), (),  minval=0.0, maxval=1.0)\n",
    "\n",
    "Y = jnp.matmul(X, W) + b\n",
    "\n",
    "num_epochs = 5"
   ]
  },
  {
   "cell_type": "code",
   "execution_count": null,
   "metadata": {
    "id": "eO6VTPVVT702"
   },
   "outputs": [],
   "source": [
    "class BiasAdderWithRunningMean(nn.Module):\n",
    "  momentum: float = 0.9\n",
    "\n",
    "  @nn.compact\n",
    "  def __call__(self, x):\n",
    "    is_initialized = self.has_variable('batch_stats', 'mean')\n",
    "    mean = self.variable('batch_stats', 'mean', jnp.zeros, x.shape[1:])\n",
    "    bias = self.param('bias', lambda rng, shape: jnp.zeros(shape), x.shape[1:])\n",
    "    if is_initialized:\n",
    "      mean.value = (self.momentum * mean.value +\n",
    "                    (1.0 - self.momentum) * jnp.mean(x, axis=0, keepdims=True))\n",
    "    return mean.value + bias"
   ]
  },
  {
   "cell_type": "markdown",
   "metadata": {
    "id": "bJ3TYyIaTy8f"
   },
   "source": [
    "This example model is a minimal example that contains both parameters (declared with `self.param`) and state variables (declared with `self.variable`).\n",
    "\n",
    "The tricky part with initialization here is that we need to split the state variables and the parameters we’re going to optimize for.\n",
    "\n",
    "First we define `update_step` as follows (with a dummy loss function that should be replaced with yours):"
   ]
  },
  {
   "cell_type": "code",
   "execution_count": null,
   "metadata": {
    "id": "B7xxRU02VeJb"
   },
   "outputs": [],
   "source": [
    "@partial(jax.jit, static_argnums=(0,))\n",
    "def update_step(apply_fn, x, opt_state, params, state):\n",
    "  def loss(params):\n",
    "    y, updated_state = apply_fn({'params': params, **state},\n",
    "                                x, mutable=list(state.keys()))\n",
    "    l = ((x - y) ** 2).sum() # Replace with your loss here.\n",
    "    return l, updated_state\n",
    "\n",
    "  (l, updated_state), grads = jax.value_and_grad(\n",
    "      loss, has_aux=True)(params)\n",
    "  updates, opt_state = tx.update(grads, opt_state)  # Defined below.\n",
    "  params = optax.apply_updates(params, updates)\n",
    "  return opt_state, params, updated_state"
   ]
  },
  {
   "cell_type": "markdown",
   "metadata": {
    "id": "zM_EyHqwVlEw"
   },
   "source": [
    "Then we can write the actual training code."
   ]
  },
  {
   "cell_type": "code",
   "execution_count": null,
   "metadata": {
    "id": "8RUFi57GVktj"
   },
   "outputs": [],
   "source": [
    "model = BiasAdderWithRunningMean()\n",
    "variables = model.init(random.PRNGKey(0), dummy_input)\n",
    "# Split state and params (which are updated by optimizer).\n",
    "state, params = variables.pop('params')\n",
    "del variables  # Delete variables to avoid wasting resources\n",
    "tx = optax.sgd(learning_rate=0.02)\n",
    "opt_state = tx.init(params)\n",
    "\n",
    "for epoch_num in range(num_epochs):\n",
    "  opt_state, params, state = update_step(\n",
    "      model.apply, dummy_input, opt_state, params, state)"
   ]
  },
  {
   "cell_type": "markdown",
   "metadata": {
    "id": "-mKoPjtQVqD3"
   },
   "source": [
    "## vmap accross the batch dimension\n",
    "\n",
    "When using `vmap` and managing state that depends on the batch dimension, for example when using `BatchNorm`, the setup above must be modified slightly. This is because any layer whose state depends on the batch dimension is not strictly vectorizable. In the case of `BatchNorm`, `lax.pmean()` must be used to average the statistics over the batch dimension so that the state is in sync for each item in the batch.\n",
    "\n",
    "This requires two small changes. Firstly, we need to name the batch axis in our model definition. Here, this is done by specifying the `axis_name` argument of `BatchNorm`. In your own code this might require specifying the `axis_name` argument of `lax.pmean()` directly."
   ]
  },
  {
   "cell_type": "code",
   "execution_count": null,
   "metadata": {
    "id": "r18oI6NOVp7Y"
   },
   "outputs": [],
   "source": [
    "class MLP(nn.Module):\n",
    "  hidden_size: int\n",
    "  out_size: int\n",
    "\n",
    "  @nn.compact\n",
    "  def __call__(self, x, train=False):\n",
    "    norm = partial(\n",
    "        nn.BatchNorm,\n",
    "        use_running_average=not train,\n",
    "        momentum=0.9,\n",
    "        epsilon=1e-5,\n",
    "        axis_name=\"batch\", # Name batch dim\n",
    "    )\n",
    "\n",
    "    x = nn.Dense(self.hidden_size)(x)\n",
    "    x = norm()(x)\n",
    "    x = nn.relu(x)\n",
    "    x = nn.Dense(self.hidden_size)(x)\n",
    "    x = norm()(x)\n",
    "    x = nn.relu(x)\n",
    "    y = nn.Dense(self.out_size)(x)\n",
    "\n",
    "    return y"
   ]
  },
  {
   "cell_type": "markdown",
   "metadata": {
    "id": "H_3cI-2DWL3g"
   },
   "source": [
    "Secondly, we need to specify the same name when calling `vmap` in our training code:"
   ]
  },
  {
   "cell_type": "code",
   "execution_count": null,
   "metadata": {
    "id": "0jurc8PdWLVP"
   },
   "outputs": [],
   "source": [
    "@partial(jax.jit, static_argnums=(0,))\n",
    "def update_step(apply_fn, x_batch, y_batch, opt_state, params, state):\n",
    "\n",
    "  def batch_loss(params):\n",
    "    def loss_fn(x, y):\n",
    "      pred, updated_state = apply_fn(\n",
    "        {'params': params, **state},\n",
    "        x, mutable=list(state.keys())\n",
    "      )\n",
    "      return (pred - y) ** 2, updated_state\n",
    "\n",
    "    loss, updated_state = jax.vmap(\n",
    "      loss_fn, out_axes=(0, None),  # Do not vmap `updated_state`.\n",
    "      axis_name='batch'  # Name batch dim\n",
    "    )(x_batch, y_batch)  # vmap only `x`, `y`, but not `state`.\n",
    "    return jnp.mean(loss), updated_state\n",
    "\n",
    "  (loss, updated_state), grads = jax.value_and_grad(\n",
    "    batch_loss, has_aux=True\n",
    "  )(params)\n",
    "\n",
    "  updates, opt_state = tx.update(grads, opt_state)  # Defined below.\n",
    "  params = optax.apply_updates(params, updates)\n",
    "  return opt_state, params, updated_state, loss"
   ]
  },
  {
   "cell_type": "markdown",
   "metadata": {
    "id": "4CI-cToTYURG"
   },
   "source": [
    "Note that we also need to specify that the model state does not have a batch dimension. Now we are able to train the model:"
   ]
  },
  {
   "cell_type": "code",
   "execution_count": null,
   "metadata": {
    "id": "OdMTQcMoYUtk"
   },
   "outputs": [],
   "source": [
    "model = MLP(hidden_size=10, out_size=1)\n",
    "variables = model.init(random.PRNGKey(0), dummy_input)\n",
    "# Split state and params (which are updated by optimizer).\n",
    "state, params = variables.pop('params')\n",
    "del variables  # Delete variables to avoid wasting resources\n",
    "tx = optax.sgd(learning_rate=0.02)\n",
    "opt_state = tx.init(params)\n",
    "\n",
    "for epoch_num in range(num_epochs):\n",
    "  opt_state, params, state, loss = update_step(\n",
    "      model.apply, X, Y, opt_state, params, state)\n",
    "  print(f\"Loss for epoch {epoch_num + 1}:\", loss)"
   ]
  }
 ],
 "metadata": {
  "colab": {
   "name": "state_params_howto.ipynb",
   "provenance": []
  },
  "jupytext": {
   "formats": "ipynb,md:myst"
  },
  "kernelspec": {
   "display_name": "Python 3",
   "name": "python3"
  },
  "language_info": {
   "codemirror_mode": {
    "name": "ipython",
    "version": 3
   },
   "file_extension": ".py",
   "mimetype": "text/x-python",
   "name": "python",
   "nbconvert_exporter": "python",
   "pygments_lexer": "ipython3",
   "version": "3.9.7"
  }
 },
 "nbformat": 4,
 "nbformat_minor": 0
}
